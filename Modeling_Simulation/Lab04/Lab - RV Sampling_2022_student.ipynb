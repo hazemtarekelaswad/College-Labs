{
 "cells": [
  {
   "cell_type": "code",
   "execution_count": 98,
   "metadata": {},
   "outputs": [],
   "source": [
    "#TODO\n",
    "#Students' Names and IDs':\n",
    "# Hazem Tarek Abdelhakam                1180509\n",
    "# Mohamed Wael Saad-Zaghloul Elsayed    1180373"
   ]
  },
  {
   "cell_type": "markdown",
   "metadata": {},
   "source": [
    "## Lab 4 - Random Variable Sampling\n",
    "In this lab we'll look at (and write) some code as an application on sampling. <br>\n",
    "We'll start by inspecting some widely-available library functions for generating rvs. <br>\n",
    "Then we'll introduce code, using familar, and some new methods, to try and compete with these functions. <br>\n",
    "There will be requirements in the TODO cells."
   ]
  },
  {
   "cell_type": "markdown",
   "metadata": {},
   "source": [
    "## Table of contents\n",
    "1. [Introduction](#intro)\n",
    "2. [Poisson distribution](#sp)\n",
    "3. [Sampling Techniques](#sampling)\n",
    "    1. [Discrete Inverse Transform method](#InvTr)\n",
    "    2. [Acceptance Rejection method](#AR)\n",
    "    3. [Composition method application](#comp)"
   ]
  },
  {
   "cell_type": "code",
   "execution_count": 99,
   "metadata": {},
   "outputs": [],
   "source": [
    "#Make sure you have numpy installed\n",
    "import matplotlib.pyplot as plt #plotting library\n",
    "import numpy as np\n",
    "import math\n",
    "from scipy.stats import poisson"
   ]
  },
  {
   "cell_type": "markdown",
   "metadata": {},
   "source": [
    "#### First, we'll look at built-in functions which we can use to sample from a distribution <a name=\"intro\"></a>\n",
    "> We're going to use the Poisson distribution, which is a discrete distribution, as an example"
   ]
  },
  {
   "cell_type": "markdown",
   "metadata": {},
   "source": [
    "##### Since these are random variables, each time we run this code we'll get different results\n",
    "> In order to facilitate grading and to compare different functions, we must set a seed. <br>\n",
    "> The results given for a specific seed are deterministic, the ith run of the function always yields the same result <br>\n",
    "**Note:** Scipy uses numpy.random() therefore setting the Numpy seed also sets it for Scipy. <br>\n",
    "**Note:** Make sure to select the \"Restart & Clear Output\" in the Kernel tab in order to restart the RNG sequence. <br>"
   ]
  },
  {
   "cell_type": "code",
   "execution_count": 100,
   "metadata": {},
   "outputs": [],
   "source": [
    "#Setting the seed for reproducibility\n",
    "np.random.seed(seed=42)"
   ]
  },
  {
   "cell_type": "markdown",
   "metadata": {},
   "source": [
    "### Poisson distribution <a name=\"sp\"></a>\n",
    "It's a discrete distribution that represents the number of arrivals in a certain time interval [0, t], given the arrival rate Lambda (which equals the 1/ mean $\\lambda$) <br>\n",
    "$$ P(k \\ occurrences,\\ \\lambda) \\ = \\ \\frac{\\lambda^k.e^{-\\,\\lambda}}{k!}$$"
   ]
  },
  {
   "cell_type": "markdown",
   "metadata": {},
   "source": [
    ">We'll define a function to print Poisson-distributed samples. <br>\n",
    ">The function handles some aesthetic aspects not relevant to the lab. <br>\n",
    ">Note: since \"lambda\" is a reserved word in Python, we'll use \"lamda\" instead in the code."
   ]
  },
  {
   "cell_type": "code",
   "execution_count": 101,
   "metadata": {},
   "outputs": [],
   "source": [
    "#Setting the parameters for our simulations, these will be constant throughout all of the techniques\n",
    "num_samples = 100000\n",
    "lamda = 6"
   ]
  },
  {
   "cell_type": "markdown",
   "metadata": {},
   "source": [
    "##### These two utility functions are for plotting and comparing our data"
   ]
  },
  {
   "cell_type": "code",
   "execution_count": 102,
   "metadata": {},
   "outputs": [],
   "source": [
    "#Dont modify this cell\n",
    "def plot_samples(samples, title=f'Distribution of {num_samples} samples drawn from Poisson distribution with lambda={lamda}'):\n",
    "    plt.figure(figsize=(10,5))\n",
    "    bin_width = 1\n",
    "    #arange is exclusive (stops before the final value), so we need to add  bin_width to our range\n",
    "    #The value of the bin is found on its right, so we need another bin_width to view the final bin's value\n",
    "    bins = np.arange(min(samples), max(samples) + 2*bin_width, bin_width, dtype=np.int32)\n",
    "    hist = plt.hist(samples, bins=bins, density=True) #Setting density to True produces a prob. distribution (normalized y-axis)\n",
    "    plt.title(title)\n",
    "    plt.xlabel('x')\n",
    "    plt.ylabel('frequency')\n",
    "    #make the x-value appear at the center of the plot\n",
    "    rotation = 0\n",
    "    if max(samples) > 30:\n",
    "        rotation = 90\n",
    "    plt.xticks(np.array(bins) + bin_width/2, np.arange(min(samples), max(samples) + 2*bin_width, dtype=np.int32), rotation=rotation)\n",
    "    plt.show()\n",
    "    return hist"
   ]
  },
  {
   "cell_type": "code",
   "execution_count": 103,
   "metadata": {},
   "outputs": [],
   "source": [
    "#Dont modify this cell\n",
    "def compare_hists(hist1, hist2):\n",
    "    plt.figure(figsize=(10,5))\n",
    "    #Pad with zeros for the shorter hist\n",
    "    if len(hist1[0]) < len(hist2[0]):\n",
    "        zeros = len(hist2[0]) - len(hist1[0])\n",
    "        hist1 = (np.append(hist1[0], np.array([0]*zeros)), hist2[1])\n",
    "    elif len(hist2[0]) < len(hist1[0]):\n",
    "        zeros = len(hist2[0]) - len(hist1[0])\n",
    "        hist2 = (np.append(hist2[0], np.array([0]*zeros)), hist1[1])\n",
    "    diffs = hist1[0]-hist2[0]\n",
    "    plt.bar(x=hist2[1][:-1], height=diffs)\n",
    "    plt.plot([0]*len(hist1[1][:-1]))\n",
    "    print(\"Mean difference: \", diffs.mean())"
   ]
  },
  {
   "cell_type": "markdown",
   "metadata": {},
   "source": [
    "#### We'll look at one popular examples for ready-made functions to generate Poisson rvs\n",
    "We'll treat these implementations as a reference, but note that no method is more accurate than the other in terms of output, what matters most is the performance."
   ]
  },
  {
   "cell_type": "markdown",
   "metadata": {},
   "source": [
    "#### Example: using Scipy.stats poisson.rvs function <a name=\"sp\"></a>"
   ]
  },
  {
   "cell_type": "code",
   "execution_count": 104,
   "metadata": {
    "scrolled": false
   },
   "outputs": [
    {
     "data": {
      "image/png": "[encoded data removed]",
      "text/plain": [
       "<Figure size 720x360 with 1 Axes>"
      ]
     },
     "metadata": {
      "needs_background": "light"
     },
     "output_type": "display_data"
    }
   ],
   "source": [
    "#Dont modify this cell\n",
    "np.random.seed(seed=42)\n",
    "samples_sp = poisson.rvs(lamda, size=num_samples)\n",
    "hist_sp = plot_samples(samples_sp)"
   ]
  },
  {
   "cell_type": "markdown",
   "metadata": {},
   "source": [
    "### Sampling techniques <a name=\"sampling\"></a>\n",
    "#### So how is this library function made?\n",
    "#### We've studied different techniques in the lectures, such as:\n",
    "1. Inverse transform sampling\n",
    "2. Acceptance-rejection sampling \n",
    "3. Composition sampling  <br>\n",
    "All of these techniques were based on the fact we know how to sample from a uniform distribution, using a pseudo-random number generator. <br>\n",
    "For us, this sampling is done through the use of numpy's random.random() function, which generates a float value between 0 and 1."
   ]
  },
  {
   "cell_type": "markdown",
   "metadata": {},
   "source": [
    "### 1. Discrete Inverse transform sampling\n",
    "<a name=\"InvTr\"></a>\n",
    "In this example, we will generate the Poisson RV using the general inverse transform algorithm<br>\n",
    "Recall that the pmf of the Poisson distribution is \n",
    "$$ p_(k,\\lambda)= \\frac{\\lambda^k.e^{-\\lambda}}{k!}$$ <br>\n",
    "We Want to find the number of occurances given the average, i.e. we want to sample $K$ for a given $\\lambda$. <br>\n",
    "It is easy to spot the recursive relation \n",
    "$$ p_({k+1},\\lambda) = \\frac{\\lambda}{k+1}p_(k,\\lambda) $$\n",
    "Using this recursive equation, we can calculate the CDF on the go.\n"
   ]
  },
  {
   "cell_type": "markdown",
   "metadata": {},
   "source": [
    "##### Generating a Poisson RV  using the general 'Inverse Transform' algorithm :\n",
    "1. Generate a random number U\n",
    "2. $K=0, p=e^{-\\lambda}, F=p$\n",
    "3. If $U<F$: set $X=K$ and stop\n",
    "4. else: $p=\\frac{\\lambda p}{(K+1)}, F=F+p, K=K+1$\n",
    "5. Go to step 3 again\n",
    "\n",
    ">$Side$ $notes$:<br>\n",
    "- Here, The Avg number of searches (iterations) made to find a sample is 1+$\\lambda$ <br>\n",
    "- As $\\lambda$ grows, the number of searches to find a sample grows linearly <br>\n",
    "- You can calculate the number of searches and print it if you want to verify this.\n",
    "- This algorithm can be used for other pmf's as long as we can find a representation for the CDF."
   ]
  },
  {
   "cell_type": "code",
   "execution_count": 105,
   "metadata": {},
   "outputs": [],
   "source": [
    "#TODO cell\n",
    "#implement the Inverse transform InvTR function that generates a random sample using the above algorithm\n",
    "#inputs: \n",
    "    #lambda the average\n",
    "#outputs:\n",
    "    #X: sample\n",
    "    #iterations: number of iterations to find X\n",
    "def InvTR(lamda):\n",
    "    X=0\n",
    "    iterations=0\n",
    "    U = np.random.random()\n",
    "    #TODO find X\n",
    "    K = 0\n",
    "    p = math.exp(-lamda)\n",
    "    F = p\n",
    "    while True:\n",
    "        iterations += 1\n",
    "        if U < F:\n",
    "            X = K\n",
    "            return X, iterations\n",
    "        p = (lamda * p) / (K + 1)\n",
    "        F += p\n",
    "        K += 1\n"
   ]
  },
  {
   "cell_type": "code",
   "execution_count": 106,
   "metadata": {},
   "outputs": [
    {
     "name": "stdout",
     "output_type": "stream",
     "text": [
      "sum steps 699499\n",
      "avg steps 6.99499\n"
     ]
    },
    {
     "data": {
      "image/png": "[encoded data removed]",
      "text/plain": [
       "<Figure size 720x360 with 1 Axes>"
      ]
     },
     "metadata": {
      "needs_background": "light"
     },
     "output_type": "display_data"
    }
   ],
   "source": [
    "#Dont modify this cell\n",
    "np.random.seed(seed=42)\n",
    "samples=[]\n",
    "sum_steps=0\n",
    "for i in range(num_samples):\n",
    "    x, steps = InvTR(lamda)\n",
    "    samples.append(x)\n",
    "    sum_steps += steps\n",
    "print(\"sum steps\",sum_steps)\n",
    "print(\"avg steps\",sum_steps/num_samples)\n",
    "hist_inv1 = plot_samples(samples)"
   ]
  },
  {
   "cell_type": "markdown",
   "metadata": {},
   "source": []
  },
  {
   "cell_type": "markdown",
   "metadata": {},
   "source": [
    "### 2. Acceptance-rejection sampling <a name=\"AR\"></a>\n",
    "The core idea is to generate a sample from an easier distribution q=g(x), and using some criteria, decide to accept or reject this sample. <br>\n",
    "One fallback of rejection techniques is that they may take a lot of time due to rejecting too many values. <br>\n",
    "This depends on the level of similarity between the function p=f(x) and the choosen generator q=g(x). <br>\n",
    "In the following example, we will use p=f(x) as the Poisson distribution and q=g(x) is the Uniform distribution. <br>\n",
    "$$ p_(k,\\lambda)= \\frac{\\lambda^k.e^{-\\lambda}}{k!}$$ <br>\n",
    "- The generator function g(x) is a uniform distribution from a to b, and we will multiply it by c to make sure that our generator function always greater than the required p=f(x).\n",
    "- Choose **c** such that  $c=Max\\frac{p_j}{q_j}$ For all $x_j$ values in our range  a-b\n",
    "- As shown in the below image, you can imagine it as if we encapsulate our distribution in a box, where the x-axis go from a to b. <br>\n",
    "- We then generate two values, u1 and u2, which are then scaled appropriately in order to act as the x and y coordinates of a random point inside our rectangle. <br>\n",
    "- Then calculate the value of our function f(x) at this x-coordinate to get yactual=f(x)\n",
    "- if our sample value is less than the actual function value, we accept it\n",
    "- else we reject and generate another point. <br>\n",
    "![alt text](ar.png \"Title\")\n",
    "Algorithm Steps:\n",
    "1. Generate $u_1,u_2$\n",
    "2. Get $C= Max \\frac{p_j}{q_j} for all j$\n",
    "3. let x_i = uniform random variable from the range a to b.    <br>  $x_i=n*(u_1) +a, $  $\\;\\;\\;\\;\\;\\;$ $n=b-a+1$ \n",
    "4. let y_i=unifrom random variable from the range 0 to 1    <br>  $y_i=u_2$\n",
    "5. Calculate $yactual_i = f(x_i)$\n",
    "6. If $y_i<yactual_i/(c*q_i)$, let $X=x_i$\n",
    "7. else go to step 3\n",
    "\n",
    ">$Side$ $notes$:<br>\n",
    "- This approach is extremely general and works on arbitrary functions and is not intended for the Poisson or uniform  distributions only <br>\n",
    "- One disadvantage is we have to specify a and b, which makes it unsuitable for general libraries where we don't know the input well. <br>\n",
    "- It is proven that the average number of trials until an acceptance equals **c**. <br>\n",
    "- Finding the distribution $q$ that minimizes the value of $c$ is therefore essential to this algorithm's performance.\n",
    "\n",
    "Now let's try it .....\n"
   ]
  },
  {
   "cell_type": "code",
   "execution_count": 107,
   "metadata": {},
   "outputs": [],
   "source": [
    "#Dont modify this cell\n",
    "#Pre-computed factorials to make the function faster\n",
    "fac_max = 30\n",
    "fac = np.zeros(fac_max)\n",
    "fac[0] = fac[1] = 1\n",
    "for i in range(2,fac_max):\n",
    "    fac[i] = i * fac[i-1]"
   ]
  },
  {
   "cell_type": "code",
   "execution_count": 108,
   "metadata": {},
   "outputs": [],
   "source": [
    "#Dont modify this cell\n",
    "#Define our f(x), g(x) pmf's as a lambda functions    \n",
    "fx = lambda lamda,k: np.exp(-lamda)*((lamda**int(k))/(fac[int(k)]))\n",
    "gx = lambda k: 1/(b-a+1)"
   ]
  },
  {
   "cell_type": "code",
   "execution_count": 109,
   "metadata": {},
   "outputs": [],
   "source": [
    "#TODO cell\n",
    "#implement get_max function to find C \"the maximum possible y value of the pmf function\" in the interval x= [a , b].\n",
    "#imputs: \n",
    "    #fx: the probability mass function of our distribution f(x)\n",
    "    #lambda: the arrival rate (mean) of the exponential distribution governing the inter-arrival times\n",
    "    #a: minimum x value\n",
    "    #b: maximum x value\n",
    "#outputs:\n",
    "    #C: maximum y value of the pmf\n",
    "def get_max(fx, gx, lamda, a, b):\n",
    "    c = -1e9 \n",
    "    #TODO find C\n",
    "    x = a\n",
    "    while x <= b:\n",
    "        v = fx(lamda, x) / gx(x)\n",
    "        if (v > c): c = v\n",
    "        x += 0.1\n",
    "    return c"
   ]
  },
  {
   "cell_type": "code",
   "execution_count": 110,
   "metadata": {},
   "outputs": [],
   "source": [
    "#TODO cell\n",
    "#implement AC_RJ function to find a sample x using the acceptance rejection_ monte carlo method\n",
    "#imputs: \n",
    "    #fx: the probability mass function of the poission distribution f(x)\n",
    "    #gx: the probability mass function of the uniform distribution g(x)\n",
    "    #lambda: the arrival rate (mean) of the exponential distribution governing the inter-arrival times\n",
    "    #a: minimum x value\n",
    "    #b: maximum x value\n",
    "    #C: maximum y value of the pmf in the interval x= [a , b]\n",
    "#outputs:\n",
    "    #X: sample\n",
    "    #iterations: number of iterations to find X\n",
    "def AC_RJ(fx, gx, lamda, a, b, c):\n",
    "    X=0\n",
    "    iterations=0\n",
    "    while True:\n",
    "        iterations += 1\n",
    "        U1 = np.random.random()\n",
    "        U2 = np.random.random()\n",
    "        x_i = (b - a + 1) * U1 + a\n",
    "        y_i = U2\n",
    "        y_actual = fx(lamda, x_i)\n",
    "        v = y_actual / (c * gx(x_i))\n",
    "        if (y_i < v):\n",
    "            X = x_i\n",
    "            return X, iterations"
   ]
  },
  {
   "cell_type": "code",
   "execution_count": 111,
   "metadata": {},
   "outputs": [
    {
     "name": "stdout",
     "output_type": "stream",
     "text": [
      "sum steps 384883\n",
      "avg steps: 3.84883\n"
     ]
    },
    {
     "data": {
      "image/png": "[encoded data removed]",
      "text/plain": [
       "<Figure size 720x360 with 1 Axes>"
      ]
     },
     "metadata": {
      "needs_background": "light"
     },
     "output_type": "display_data"
    }
   ],
   "source": [
    "#Dont modify this cell\n",
    "np.random.seed(seed=42)\n",
    "samples = []\n",
    "a = 0\n",
    "b = len(hist_sp[1])\n",
    "c = get_max(fx, gx, lamda, a, b)\n",
    "sum_steps = 0\n",
    "for i in range(num_samples):\n",
    "    x, steps = AC_RJ(fx, gx, lamda, a, b, c)\n",
    "    samples.append(x)\n",
    "    sum_steps += steps\n",
    "print(\"sum steps\", sum_steps)\n",
    "print(\"avg steps:\", sum_steps/num_samples)\n",
    "hist_rej1 = plot_samples(samples);"
   ]
  },
  {
   "cell_type": "code",
   "execution_count": 112,
   "metadata": {},
   "outputs": [
    {
     "name": "stdout",
     "output_type": "stream",
     "text": [
      "Mean difference:  -4.189732969100589e-19\n"
     ]
    },
    {
     "data": {
      "image/png": "[encoded data removed]",
      "text/plain": [
       "<Figure size 720x360 with 1 Axes>"
      ]
     },
     "metadata": {
      "needs_background": "light"
     },
     "output_type": "display_data"
    }
   ],
   "source": [
    "#Dont modify this cell\n",
    "compare_hists(hist_rej1, hist_sp)"
   ]
  },
  {
   "cell_type": "markdown",
   "metadata": {},
   "source": [
    "### 3. Composition method -bonus <a name=\"comp\"></a>\n",
    "using the composition method, it is required to generate samples from the following pmf f(x) in the range x= [0-15]\n",
    "\n",
    "\n",
    "$$\n",
    "f(x) = \\left\\{\n",
    "    \\begin{array}\\\\\n",
    "        poisson(\\lambda =1) & \\mbox{if } \\ x \\in [0,5) \\\\\n",
    "         poisson(\\lambda =10) & \\mbox{if } \\ x \\in [5,15] \\\\\n",
    "    \\end{array}\n",
    "\\right.\n",
    "$$\n",
    "Hints: \n",
    "- First we generate U to determine which exponential to sample from (according to their weights). <br>\n",
    "- Then after selecting a poisson exponential, we sample from it using any sampling method as before."
   ]
  },
  {
   "cell_type": "code",
   "execution_count": 113,
   "metadata": {},
   "outputs": [],
   "source": [
    "#TODO cell\n",
    "#implement PO_COMP function to find a sample x \n",
    "#bonus\n",
    "#outputs:\n",
    "    #X: sample\n",
    "    #iterations: number of iterations to find X\n",
    "def PO_COMP():\n",
    "    X=0\n",
    "    # iterations=0\n",
    "    U = np.random.random()\n",
    "    #TODO find X\n",
    "    x_i = 16 * U\n",
    "    if x_i < 5:\n",
    "        X, iterations = InvTR(1)\n",
    "    else:\n",
    "        X, iterations = InvTR(10)\n",
    "    return X, iterations"
   ]
  },
  {
   "cell_type": "code",
   "execution_count": 114,
   "metadata": {},
   "outputs": [
    {
     "name": "stdout",
     "output_type": "stream",
     "text": [
      "sum steps 819655\n",
      "avg steps 8.19655\n"
     ]
    },
    {
     "data": {
      "image/png": "[encoded data removed]",
      "text/plain": [
       "<Figure size 720x360 with 1 Axes>"
      ]
     },
     "metadata": {
      "needs_background": "light"
     },
     "output_type": "display_data"
    }
   ],
   "source": [
    "#Dont modify this cell\n",
    "np.random.seed(seed=42)\n",
    "samples=[]\n",
    "sum_steps=0\n",
    "for i in range(num_samples):\n",
    "    x, steps = PO_COMP()\n",
    "    samples.append(x)\n",
    "    sum_steps += steps\n",
    "print(\"sum steps\",sum_steps)\n",
    "print(\"avg steps\",sum_steps/num_samples)\n",
    "hist_comp1 = plot_samples(samples)"
   ]
  },
  {
   "cell_type": "markdown",
   "metadata": {},
   "source": [
    "### Conclusion\n",
    "In this lab, we demonstrated how to use built-in functions for generating rvs, as well as to how to make our own functions, exploring several techniques, and pointing out their advantages and disadvantages. <br>\n",
    "good job!."
   ]
  }
 ],
 "metadata": {
  "kernelspec": {
   "display_name": "Python 3",
   "language": "python",
   "name": "python3"
  },
  "language_info": {
   "codemirror_mode": {
    "name": "ipython",
    "version": 3
   },
   "file_extension": ".py",
   "mimetype": "text/x-python",
   "name": "python",
   "nbconvert_exporter": "python",
   "pygments_lexer": "ipython3",
   "version": "3.9.13"
  },
  "vscode": {
   "interpreter": {
    "hash": "d4524279cc006b493003b2606abb0e69ed96d667a5e600123a7986ee78ec38c7"
   }
  }
 },
 "nbformat": 4,
 "nbformat_minor": 2
}
